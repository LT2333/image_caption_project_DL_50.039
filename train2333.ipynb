{
 "cells": [
  {
   "cell_type": "code",
   "execution_count": 5,
   "metadata": {},
   "outputs": [
    {
     "name": "stderr",
     "output_type": "stream",
     "text": [
      "[nltk_data] Downloading package punkt to /home/jovyan/nltk_data...\n",
      "[nltk_data]   Unzipping tokenizers/punkt.zip.\n"
     ]
    },
    {
     "data": {
      "text/plain": [
       "True"
      ]
     },
     "execution_count": 5,
     "metadata": {},
     "output_type": "execute_result"
    }
   ],
   "source": [
    "import nltk\n",
    "nltk.download('punkt')"
   ]
  },
  {
   "cell_type": "code",
   "execution_count": null,
   "metadata": {},
   "outputs": [
    {
     "name": "stdout",
     "output_type": "stream",
     "text": [
      "Namespace(batch_size=128, caption_path='../datasets/coco2014/trainval_coco2014_captions/captions_train2014.json', crop_size=224, embed_size=256, hidden_size=512, image_dir='data/resized2014', learning_rate=0.001, log_step=10, model_path='models/', num_epochs=5, num_layers=1, num_workers=2, save_step=1000, vocab_path='data/vocab.pkl')\n",
      "loading annotations into memory...\n",
      "Done (t=0.68s)\n",
      "creating index...\n",
      "index created!\n",
      "Epoch [0/5], Step [0/3236], Loss: 9.2031, Perplexity: 9928.1249\n",
      "Epoch [0/5], Step [10/3236], Loss: 5.8116, Perplexity: 334.1531\n",
      "Epoch [0/5], Step [20/3236], Loss: 5.3848, Perplexity: 218.0621\n",
      "Epoch [0/5], Step [30/3236], Loss: 4.9311, Perplexity: 138.5296\n",
      "Epoch [0/5], Step [40/3236], Loss: 4.5993, Perplexity: 99.4144\n",
      "Epoch [0/5], Step [50/3236], Loss: 4.4514, Perplexity: 85.7451\n",
      "Epoch [0/5], Step [60/3236], Loss: 4.3210, Perplexity: 75.2674\n",
      "Epoch [0/5], Step [70/3236], Loss: 4.1664, Perplexity: 64.4824\n",
      "Epoch [0/5], Step [80/3236], Loss: 4.0866, Perplexity: 59.5343\n",
      "Epoch [0/5], Step [90/3236], Loss: 3.9144, Perplexity: 50.1213\n",
      "Epoch [0/5], Step [100/3236], Loss: 3.8452, Perplexity: 46.7701\n",
      "Epoch [0/5], Step [110/3236], Loss: 3.6093, Perplexity: 36.9408\n",
      "Epoch [0/5], Step [120/3236], Loss: 3.6631, Perplexity: 38.9827\n",
      "Epoch [0/5], Step [130/3236], Loss: 3.5722, Perplexity: 35.5962\n"
     ]
    }
   ],
   "source": [
    "! python train.py"
   ]
  }
 ],
 "metadata": {
  "kernelspec": {
   "display_name": "Python 3",
   "language": "python",
   "name": "python3"
  },
  "language_info": {
   "codemirror_mode": {
    "name": "ipython",
    "version": 3
   },
   "file_extension": ".py",
   "mimetype": "text/x-python",
   "name": "python",
   "nbconvert_exporter": "python",
   "pygments_lexer": "ipython3",
   "version": "3.6.10"
  }
 },
 "nbformat": 4,
 "nbformat_minor": 4
}
